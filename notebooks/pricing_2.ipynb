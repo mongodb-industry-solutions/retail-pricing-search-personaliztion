{
 "cells": [
  {
   "cell_type": "code",
   "execution_count": null,
   "metadata": {
    "application/vnd.databricks.v1+cell": {
     "cellMetadata": {},
     "inputWidgets": {},
     "nuid": "b710aff6-a9f9-426b-b62a-f8ed5bdc08c2",
     "showTitle": false,
     "title": ""
    }
   },
   "outputs": [],
   "source": [
    "%pip install mlflow pymongo"
   ]
  },
  {
   "cell_type": "code",
   "execution_count": null,
   "metadata": {
    "application/vnd.databricks.v1+cell": {
     "cellMetadata": {},
     "inputWidgets": {},
     "nuid": "24709df4-bfab-4523-a1e6-ba20ef691189",
     "showTitle": false,
     "title": ""
    }
   },
   "outputs": [],
   "source": [
    "from pymongo import MongoClient\n",
    "MONGO_CONN = 'mongodb+srv://<username>:<password>@retail-demo.2wqno.mongodb.net/?retryWrites=true&w=majority'\n",
    "client = MongoClient(MONGO_CONN)"
   ]
  },
  {
   "cell_type": "code",
   "execution_count": null,
   "metadata": {
    "application/vnd.databricks.v1+cell": {
     "cellMetadata": {},
     "inputWidgets": {},
     "nuid": "0600de68-5dd2-4e81-bd7e-04dd8ab788ec",
     "showTitle": false,
     "title": ""
    }
   },
   "outputs": [],
   "source": [
    "import numpy as np\n",
    "import pandas as pd\n",
    "from datetime import datetime\n",
    "import pyspark\n",
    "from pyspark.sql import functions as F\n",
    "from pyspark.sql import types as T\n",
    "from pyspark.sql import Window, WindowSpec\n",
    "from pyspark.sql.functions import struct\n",
    "\n",
    "import mlflow.pyfunc\n",
    "from tqdm import tqdm\n",
    "tqdm.pandas()\n",
    "\n",
    "import warnings\n",
    "warnings.filterwarnings(\"ignore\")\n",
    "\n",
    "sales = spark.read.format(\"mongodb\").\\\n",
    "            option('spark.mongodb.connection.uri', MONGO_CONN).\\\n",
    "            option('spark.mongodb.database', \"search\").\\\n",
    "            option('spark.mongodb.collection', \"processed_clogs_n\").\\\n",
    "            load()"
   ]
  },
  {
   "cell_type": "code",
   "execution_count": null,
   "metadata": {
    "application/vnd.databricks.v1+cell": {
     "cellMetadata": {},
     "inputWidgets": {},
     "nuid": "cb7a2989-622d-453f-bff6-841946564992",
     "showTitle": false,
     "title": ""
    }
   },
   "outputs": [],
   "source": [
    "sales = sales.groupby(\"product_uid\").agg(F.sum(\"total_sales\").alias(\"total_sales\"), F.avg(\"avg_price\").alias(\"avg_price\"), F.avg(\"max_price\").alias(\"max_price\"), F.avg(\"min_price\").alias(\"min_price\"),\\\n",
    "                                F.avg(\"old_avg_price\").alias(\"old_avg_price\"), F.sum(\"old_sales\").alias(\"old_sales\") )\n",
    "\n",
    "model_name = \"retail_competitive_pricing_model_1\"\n",
    "apply_model_udf = mlflow.pyfunc.spark_udf(spark, f\"models:/{model_name}/staging\")\n",
    "    \n",
    "# Apply the model to the new data\n",
    "columns = ['old_sales','total_sales','min_price','max_price','avg_price','old_avg_price']\n",
    "udf_inputs = struct(*columns)\n",
    "udf_inputs"
   ]
  },
  {
   "cell_type": "code",
   "execution_count": null,
   "metadata": {
    "application/vnd.databricks.v1+cell": {
     "cellMetadata": {},
     "inputWidgets": {},
     "nuid": "01d3ace2-6388-4c6c-9d35-661646a6fcca",
     "showTitle": false,
     "title": ""
    }
   },
   "outputs": [],
   "source": [
    "sales = sales.withColumn(\"pred_price\",apply_model_udf(udf_inputs))\n",
    "sales = sales.withColumn(\"price_elasticity\", F.expr(\"((old_sales - total_sales)/(old_sales + total_sales))/(((old_avg_price - avg_price)+1)/(old_avg_price + avg_price))\"))"
   ]
  },
  {
   "cell_type": "code",
   "execution_count": null,
   "metadata": {
    "application/vnd.databricks.v1+cell": {
     "cellMetadata": {},
     "inputWidgets": {},
     "nuid": "7f12026f-c005-44a2-8f9e-c3ac9f5140aa",
     "showTitle": false,
     "title": ""
    }
   },
   "outputs": [],
   "source": [
    "sales.select(\"product_uid\", \"pred_price\", \"price_elasticity\").write.format(\"mongodb\").\\\n",
    "            option('spark.mongodb.connection.uri', MONGO_CONN).\\\n",
    "            option('spark.mongodb.database', \"search\").\\\n",
    "            option('spark.mongodb.collection', \"price\").\\\n",
    "            option('spark.mongodb.idFieldList', 'product_uid').\\\n",
    "            mode('append').\\\n",
    "            save()"
   ]
  },
  {
   "cell_type": "code",
   "execution_count": null,
   "metadata": {
    "application/vnd.databricks.v1+cell": {
     "cellMetadata": {},
     "inputWidgets": {},
     "nuid": "43acd7d3-a346-4086-bfac-af514af5ef66",
     "showTitle": false,
     "title": ""
    }
   },
   "outputs": [],
   "source": []
  }
 ],
 "metadata": {
  "application/vnd.databricks.v1+notebook": {
   "dashboards": [],
   "language": "python",
   "notebookMetadata": {},
   "notebookName": "pricing_2",
   "notebookOrigID": 4393054174989712,
   "widgets": {}
  },
  "language_info": {
   "name": "python"
  }
 },
 "nbformat": 4,
 "nbformat_minor": 0
}
