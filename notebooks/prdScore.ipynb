{
 "cells": [
  {
   "cell_type": "code",
   "execution_count": null,
   "metadata": {
    "application/vnd.databricks.v1+cell": {
     "cellMetadata": {},
     "inputWidgets": {},
     "nuid": "d6fee38b-58af-40da-ad38-68c8fb732b64",
     "showTitle": false,
     "title": ""
    }
   },
   "outputs": [],
   "source": [
    "import pandas as pd\n",
    "import json\n",
    "from collections import Counter\n",
    "from tqdm import tqdm\n",
    "import copy\n",
    "import numpy as np\n",
    "import pyspark\n",
    "from pyspark import SparkContext\n",
    "from pyspark.sql import SparkSession\n",
    "from pyspark.sql import functions as F\n",
    "from pyspark.sql import types as T\n",
    "from pyspark.sql import Window\n",
    "from scipy.stats import beta\n",
    "\n",
    "conf = pyspark.SparkConf()\n",
    "conf.set(\"spark.jars.packages\", \"org.mongodb.spark:mongo-spark-connector_2.12:10.1.0\")"
   ]
  },
  {
   "cell_type": "code",
   "execution_count": null,
   "metadata": {
    "application/vnd.databricks.v1+cell": {
     "cellMetadata": {},
     "inputWidgets": {},
     "nuid": "0057bc9b-43a4-4a52-8750-b17f5784bca8",
     "showTitle": false,
     "title": ""
    }
   },
   "outputs": [],
   "source": [
    "\n",
    "MONGO_CONN = 'mongodb+srv://<username>:<password>@retail-demo.2wqno.mongodb.net/?retryWrites=true&w=majority'\n",
    "\n",
    "\n",
    "spark = SparkSession.builder \\\n",
    "        .master(\"local\") \\\n",
    "        .appName(\"test1\") \\\n",
    "        .config(conf = conf) \\\n",
    "        .getOrCreate()"
   ]
  },
  {
   "cell_type": "code",
   "execution_count": null,
   "metadata": {
    "application/vnd.databricks.v1+cell": {
     "cellMetadata": {},
     "inputWidgets": {},
     "nuid": "512221aa-1969-4b00-953d-9cb691c9dc89",
     "showTitle": false,
     "title": ""
    }
   },
   "outputs": [],
   "source": [
    "# df = spark.read.json(\"../data/clickmodel-train.jsonl\")\n",
    "\n",
    "\n",
    "pipeline = [\n",
    "    {\n",
    "        '$group': {\n",
    "            '_id': {\n",
    "                'product_id': '$product_id'\n",
    "            }, \n",
    "            'product_id': {\n",
    "                '$first': '$product_id'\n",
    "            },  \n",
    "            'total_views': {\n",
    "                '$sum': {\n",
    "                    '$cond': [\n",
    "                        {\n",
    "                            '$in': [\n",
    "                                '$event_type', [\n",
    "                                    'view', 'cart', 'purchase'\n",
    "                                ]\n",
    "                            ]\n",
    "                        }, 1, 0\n",
    "                    ]\n",
    "                }\n",
    "            },\n",
    "            'purchase': {\n",
    "                '$sum': {\n",
    "                    '$cond': [\n",
    "                        {\n",
    "                            '$in': [\n",
    "                                '$event_type', [\n",
    "                                    'purchase'\n",
    "                                ]\n",
    "                            ]\n",
    "                        }, 1, 0\n",
    "                    ]\n",
    "                }\n",
    "            },\n",
    "            'cart': {\n",
    "                '$sum': {\n",
    "                    '$cond': [\n",
    "                        {\n",
    "                            '$in': [\n",
    "                                '$event_type', [\n",
    "                                    'cart'\n",
    "                                ]\n",
    "                            ]\n",
    "                        }, 1, 0\n",
    "                    ]\n",
    "                }\n",
    "            },\n",
    "        }\n",
    "    }, {\n",
    "        '$project': {\n",
    "            '_id': 0\n",
    "        }\n",
    "    }\n",
    "]\n",
    "\n",
    "df = spark.read.format(\"mongodb\").\\\n",
    "            option('spark.mongodb.connection.uri', MONGO_CONN).\\\n",
    "            option('spark.mongodb.database', \"search\").\\\n",
    "            option('spark.mongodb.collection', \"clogs\").\\\n",
    "            option('spark.mongodb.aggregation.pipeline',pipeline).\\\n",
    "            option(\"forceDeleteTempCheckpointLocation\", \"true\").load()"
   ]
  },
  {
   "cell_type": "code",
   "execution_count": null,
   "metadata": {
    "application/vnd.databricks.v1+cell": {
     "cellMetadata": {},
     "inputWidgets": {},
     "nuid": "d9467866-dc44-4a7e-b889-c53bc17784d1",
     "showTitle": false,
     "title": ""
    }
   },
   "outputs": [],
   "source": [
    "@F.udf(T.FloatType())\n",
    "def beta_fn(pct,a,b):\n",
    "    return float(100*beta.cdf(pct, a,b))\n",
    "\n",
    "w = Window().partitionBy()\n",
    "df = df.withColumn(\"purchase_alpha\", F.avg('purchase').over(w))\n",
    "df = df.withColumn(\"cart_alpha\", F.avg('cart').over(w))\n",
    "df = df.withColumn(\"total_views_mean\", F.avg('total_views').over(w))\n",
    "df = df.withColumn(\"purchase_beta\", F.expr('total_views_mean - purchase_alpha'))\n",
    "df = df.withColumn(\"cart_beta\", F.expr('total_views_mean - cart_alpha'))\n",
    "df = df.withColumn(\"purchase_pct\", F.expr('(purchase+purchase_alpha)/(total_views+purchase_alpha+purchase_beta)'))\n",
    "df = df.withColumn(\"cart_pct\", F.expr('(purchase+cart_alpha)/(total_views+cart_alpha+cart_beta)'))"
   ]
  },
  {
   "cell_type": "code",
   "execution_count": null,
   "metadata": {
    "application/vnd.databricks.v1+cell": {
     "cellMetadata": {},
     "inputWidgets": {},
     "nuid": "fd8c6160-c794-463a-b732-1664333d6cc5",
     "showTitle": false,
     "title": ""
    }
   },
   "outputs": [],
   "source": [
    "df = df.withColumn('purchase_score', beta_fn('purchase_pct', 'purchase_alpha', 'purchase_beta'))\n",
    "df = df.withColumn('cart_score', beta_fn('cart_pct', 'cart_alpha', 'cart_beta'))"
   ]
  },
  {
   "cell_type": "code",
   "execution_count": null,
   "metadata": {
    "application/vnd.databricks.v1+cell": {
     "cellMetadata": {},
     "inputWidgets": {},
     "nuid": "bf00d0ef-eaad-4241-b5ea-92df03703486",
     "showTitle": false,
     "title": ""
    }
   },
   "outputs": [],
   "source": [
    "df = df.withColumn('score', F.expr('purchase_score*0.7 + cart_score*0.3'))"
   ]
  },
  {
   "cell_type": "code",
   "execution_count": null,
   "metadata": {
    "application/vnd.databricks.v1+cell": {
     "cellMetadata": {},
     "inputWidgets": {},
     "nuid": "13bc7071-17a6-4bfc-afc7-c3577d21e252",
     "showTitle": false,
     "title": ""
    }
   },
   "outputs": [],
   "source": [
    "mapping=spark.read.format(\"mongodb\").\\\n",
    "            option('spark.mongodb.connection.uri', MONGO_CONN).\\\n",
    "            option('spark.mongodb.database', \"search\").\\\n",
    "            option('spark.mongodb.collection', \"mapping\").\\\n",
    "            option('spark.mongodb.aggregation.pipeline',[{\"$project\":{\"_id\":0}}]).\\\n",
    "            option(\"forceDeleteTempCheckpointLocation\", \"true\").load()"
   ]
  },
  {
   "cell_type": "code",
   "execution_count": null,
   "metadata": {
    "application/vnd.databricks.v1+cell": {
     "cellMetadata": {},
     "inputWidgets": {},
     "nuid": "d00c904e-bbd4-4f7c-a6f7-024a1b45ec93",
     "showTitle": false,
     "title": ""
    }
   },
   "outputs": [],
   "source": [
    "df = df.join(F.broadcast(mapping), on='product_id',how='right')"
   ]
  },
  {
   "cell_type": "code",
   "execution_count": null,
   "metadata": {
    "application/vnd.databricks.v1+cell": {
     "cellMetadata": {},
     "inputWidgets": {},
     "nuid": "49118b2c-805c-4cd3-b729-a882a5c5b43f",
     "showTitle": false,
     "title": ""
    }
   },
   "outputs": [],
   "source": [
    "df.select(\"product_uid\", \"score\").write.format('mongodb').\\\n",
    "            option('spark.mongodb.connection.uri', MONGO_CONN).\\\n",
    "            option('spark.mongodb.database', \"search\").\\\n",
    "            option('spark.mongodb.collection', \"prd_score\").\\\n",
    "            option('spark.mongodb.operationType', \"insert\").\\\n",
    "            mode('overwrite').\\\n",
    "            option(\"forceDeleteTempCheckpointLocation\", \"true\").save()"
   ]
  }
 ],
 "metadata": {
  "application/vnd.databricks.v1+notebook": {
   "dashboards": [],
   "language": "python",
   "notebookMetadata": {},
   "notebookName": "prdScore",
   "notebookOrigID": 4393054174989676,
   "widgets": {}
  },
  "language_info": {
   "name": "python"
  }
 },
 "nbformat": 4,
 "nbformat_minor": 0
}
