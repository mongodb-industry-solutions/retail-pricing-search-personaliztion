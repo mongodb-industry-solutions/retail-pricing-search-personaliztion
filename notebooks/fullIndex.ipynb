{
 "cells": [
  {
   "cell_type": "code",
   "execution_count": null,
   "metadata": {
    "application/vnd.databricks.v1+cell": {
     "cellMetadata": {
      "byteLimit": 2048000,
      "rowLimit": 10000
     },
     "inputWidgets": {},
     "nuid": "6664ea58-2b6b-4467-b6ef-3723278efa17",
     "showTitle": false,
     "title": ""
    }
   },
   "outputs": [
    {
     "name": "stdout",
     "output_type": "stream",
     "text": [
      "Python interpreter will be restarted.\n",
      "Collecting pymongo\n",
      "  Using cached pymongo-4.3.3-cp39-cp39-manylinux_2_17_x86_64.manylinux2014_x86_64.whl (492 kB)\n",
      "Collecting tqdm\n",
      "  Using cached tqdm-4.65.0-py3-none-any.whl (77 kB)\n",
      "Collecting dnspython<3.0.0,>=1.16.0\n",
      "  Using cached dnspython-2.3.0-py3-none-any.whl (283 kB)\n",
      "Installing collected packages: dnspython, tqdm, pymongo\n",
      "Successfully installed dnspython-2.3.0 pymongo-4.3.3 tqdm-4.65.0\n",
      "Python interpreter will be restarted.\n"
     ]
    }
   ],
   "source": [
    "%pip install pymongo tqdm sentence-transformers"
   ]
  },
  {
   "cell_type": "code",
   "execution_count": null,
   "metadata": {
    "application/vnd.databricks.v1+cell": {
     "cellMetadata": {
      "byteLimit": 2048000,
      "rowLimit": 10000
     },
     "inputWidgets": {},
     "nuid": "dada3c9a-fa12-4fb4-8474-7f7f813973e4",
     "showTitle": false,
     "title": ""
    }
   },
   "outputs": [
    {
     "data": {
      "application/vnd.databricks.v1+bamboolib_hint": "{\"pd.DataFrames\": [], \"version\": \"0.0.1\"}",
      "text/plain": []
     },
     "metadata": {},
     "output_type": "display_data"
    }
   ],
   "source": [
    "import pandas as pd\n",
    "import json\n",
    "from collections import Counter\n",
    "from tqdm import tqdm\n",
    "from pymongo import MongoClient\n",
    "from pyspark.sql import functions as F\n",
    "from pyspark.sql import types as T\n",
    "from pyspark.sql import Window\n",
    "import pyspark\n",
    "from pyspark import SparkContext\n",
    "from pyspark.sql import SparkSession\n",
    "conf = pyspark.SparkConf()\n",
    "\n",
    "\n",
    "import copy\n",
    "import numpy as np\n",
    "\n",
    "from sentence_transformers import SentenceTransformer\n",
    "\n",
    "# Load the model\n",
    "model = SentenceTransformer('sentence-transformers/all-MiniLM-L6-v2')\n",
    "\n",
    "\n",
    "tqdm.pandas()\n",
    "\n",
    "MONGO_CONN = 'mongodb+srv://<username>:<password>@retail-demo.2wqno.mongodb.net/?retryWrites=true&w=majority'"
   ]
  },
  {
   "cell_type": "code",
   "execution_count": null,
   "metadata": {
    "application/vnd.databricks.v1+cell": {
     "cellMetadata": {
      "byteLimit": 2048000,
      "rowLimit": 10000
     },
     "inputWidgets": {},
     "nuid": "57071d31-99ca-4366-b631-ebe366e96f55",
     "showTitle": false,
     "title": ""
    }
   },
   "outputs": [],
   "source": [
    "atp = spark.read.format(\"mongodb\").\\\n",
    "            option('spark.mongodb.connection.uri', MONGO_CONN).\\\n",
    "            option('spark.mongodb.database', \"search\").\\\n",
    "            option('spark.mongodb.collection', \"atp_status_myn\").\\\n",
    "            option(\"spark.mongodb.partitioner\",\"com.mongodb.spark.sql.connector.read.partitioner.SamplePartitioner\").\\\n",
    "            option(\"spark.mongodb.read.partitioner.options.partition.field\", \"_id\").\\\n",
    "            option(\"spark.mongodb.read.partitioner.options.partition.size\",1).\\\n",
    "            option('spark.mongodb.aggregation.pipeline',[]).\\\n",
    "            option(\"forceDeleteTempCheckpointLocation\", \"true\").load()\n",
    "\n",
    "atp = atp.drop(\"_id\")\n",
    "atp = atp.withColumn(\"id\", F.col(\"id\").cast(\"string\"))"
   ]
  },
  {
   "cell_type": "code",
   "execution_count": null,
   "metadata": {
    "application/vnd.databricks.v1+cell": {
     "cellMetadata": {
      "byteLimit": 2048000,
      "rowLimit": 10000
     },
     "inputWidgets": {},
     "nuid": "a3036c2f-4373-43d1-aa95-8e116a4a5feb",
     "showTitle": false,
     "title": ""
    }
   },
   "outputs": [],
   "source": [
    "images=spark.read.format(\"mongodb\").\\\n",
    "            option('spark.mongodb.connection.uri', MONGO_CONN).\\\n",
    "            option('spark.mongodb.database', \"search\").\\\n",
    "            option('spark.mongodb.collection', \"mynimages\").\\\n",
    "            option(\"spark.mongodb.partitioner\",\"com.mongodb.spark.sql.connector.read.partitioner.SamplePartitioner\").\\\n",
    "            option(\"spark.mongodb.read.partitioner.options.partition.field\", \"_id\").\\\n",
    "            option(\"spark.mongodb.read.partitioner.options.partition.size\",1).\\\n",
    "            option('spark.mongodb.aggregation.pipeline',[{\"$project\":{'product_id':0}}]).\\\n",
    "            option(\"forceDeleteTempCheckpointLocation\", \"true\").load()\n",
    "\n",
    "images = images.drop(\"_id\")\n",
    "images = images.drop(\"filename\")\n",
    "images = images.withColumn(\"id\", F.col(\"id\").cast(\"string\"))"
   ]
  },
  {
   "cell_type": "code",
   "execution_count": null,
   "metadata": {
    "application/vnd.databricks.v1+cell": {
     "cellMetadata": {
      "byteLimit": 2048000,
      "rowLimit": 10000
     },
     "inputWidgets": {},
     "nuid": "32724a12-6b69-43bd-b5b9-5d2f75712b4c",
     "showTitle": false,
     "title": ""
    }
   },
   "outputs": [],
   "source": [
    "prd_desc=spark.read.format(\"mongodb\").\\\n",
    "            option('spark.mongodb.connection.uri', MONGO_CONN).\\\n",
    "            option('spark.mongodb.database', \"search\").\\\n",
    "            option('spark.mongodb.collection', \"prd_desc_myn\").\\\n",
    "            option(\"spark.mongodb.partitioner\",\"com.mongodb.spark.sql.connector.read.partitioner.SamplePartitioner\").\\\n",
    "            option(\"spark.mongodb.read.partitioner.options.partition.field\", \"_id\").\\\n",
    "            option(\"spark.mongodb.read.partitioner.options.partition.size\",1).\\\n",
    "            option('spark.mongodb.aggregation.pipeline',[]).\\\n",
    "            option(\"forceDeleteTempCheckpointLocation\", \"true\").load()\n",
    "\n",
    "prd_desc = prd_desc.drop(\"_id\")\n",
    "prd_desc = prd_desc.withColumn(\"title\", F.col(\"productDisplayName\"))\n",
    "prd_desc = prd_desc.withColumn(\"mfg_brand_name\", F.col(\"brandName\"))\n",
    "\n",
    "prd_desc = prd_desc.withColumn(\"id\", F.col(\"id\").cast(T.StringType()))"
   ]
  },
  {
   "cell_type": "code",
   "execution_count": null,
   "metadata": {
    "application/vnd.databricks.v1+cell": {
     "cellMetadata": {
      "byteLimit": 2048000,
      "rowLimit": 10000
     },
     "inputWidgets": {},
     "nuid": "96a5609e-02e6-423e-963d-f171551cac24",
     "showTitle": false,
     "title": ""
    }
   },
   "outputs": [],
   "source": [
    "prd_score=spark.read.format(\"mongodb\").\\\n",
    "            option('spark.mongodb.connection.uri', MONGO_CONN).\\\n",
    "            option('spark.mongodb.database', \"search\").\\\n",
    "            option('spark.mongodb.collection', \"prd_score_myn\").\\\n",
    "            option(\"spark.mongodb.partitioner\",\"com.mongodb.spark.sql.connector.read.partitioner.SamplePartitioner\").\\\n",
    "            option(\"spark.mongodb.read.partitioner.options.partition.field\", \"_id\").\\\n",
    "            option(\"spark.mongodb.read.partitioner.options.partition.size\",1).\\\n",
    "            option('spark.mongodb.aggregation.pipeline',[]).\\\n",
    "            option(\"forceDeleteTempCheckpointLocation\", \"true\").load()\n",
    "\n",
    "prd_score = prd_score.drop(\"_id\")\n",
    "prd_score = prd_score.withColumn(\"id\", F.col(\"id\").cast(T.StringType()))"
   ]
  },
  {
   "cell_type": "code",
   "execution_count": null,
   "metadata": {
    "application/vnd.databricks.v1+cell": {
     "cellMetadata": {
      "byteLimit": 2048000,
      "rowLimit": 10000
     },
     "inputWidgets": {},
     "nuid": "c83e0285-0775-4e08-ae17-289e582f432d",
     "showTitle": false,
     "title": ""
    }
   },
   "outputs": [],
   "source": [
    "price = spark.read.format(\"mongodb\").\\\n",
    "            option('spark.mongodb.connection.uri', MONGO_CONN).\\\n",
    "            option('spark.mongodb.database', \"search\").\\\n",
    "            option('spark.mongodb.collection', \"price_myn\").\\\n",
    "            option(\"spark.mongodb.partitioner\",\"com.mongodb.spark.sql.connector.read.partitioner.SamplePartitioner\").\\\n",
    "            option(\"spark.mongodb.read.partitioner.options.partition.field\", \"_id\").\\\n",
    "            option(\"spark.mongodb.read.partitioner.options.partition.size\",1).\\\n",
    "            option('spark.mongodb.aggregation.pipeline',[{\"$project\":{\"_id\":0}}]).\\\n",
    "            option(\"forceDeleteTempCheckpointLocation\", \"true\").load()\n",
    "\n",
    "price = price.drop(\"_id\")\n",
    "price = price.withColumn(\"id\", F.col(\"id\").cast(T.StringType()))"
   ]
  },
  {
   "cell_type": "code",
   "execution_count": null,
   "metadata": {
    "application/vnd.databricks.v1+cell": {
     "cellMetadata": {
      "byteLimit": 2048000,
      "rowLimit": 10000
     },
     "inputWidgets": {},
     "nuid": "2ea0aff2-10f4-45cb-95e0-e6725047f9b9",
     "showTitle": false,
     "title": ""
    }
   },
   "outputs": [],
   "source": [
    "final = atp.join(F.broadcast(images), on='id',how='inner').\\\n",
    "    join(F.broadcast(prd_desc),on='id',how='inner').\\\n",
    "    join(F.broadcast(prd_score),on='id',how='inner').\\\n",
    "    join(F.broadcast(price),on='id',how='inner')\n",
    "\n",
    "\n",
    "@F.udf()\n",
    "def get_vec(text):\n",
    "    return model.encode(text)\n",
    "\n",
    "final.withColumn(\"vec\", get_vec(\"title\"))\n",
    "\n",
    "final.write.format(\"mongodb\").\\\n",
    "            option('spark.mongodb.connection.uri', MONGO_CONN).\\\n",
    "            option('spark.mongodb.database', \"search\").\\\n",
    "            option('spark.mongodb.collection', \"catalog_myn\").\\\n",
    "            option('spark.mongodb.idFieldList', 'id').\\\n",
    "            mode(\"append\").\\\n",
    "            save()"
   ]
  },
  {
   "cell_type": "code",
   "execution_count": null,
   "metadata": {
    "application/vnd.databricks.v1+cell": {
     "cellMetadata": {
      "byteLimit": 2048000,
      "rowLimit": 10000
     },
     "inputWidgets": {},
     "nuid": "a21511e9-80d3-4b78-a459-c4732a82a984",
     "showTitle": false,
     "title": ""
    }
   },
   "outputs": [
    {
     "name": "stdout",
     "output_type": "stream",
     "text": [
      "Out[8]: 339092"
     ]
    }
   ],
   "source": [
    "final.count()"
   ]
  },
  {
   "cell_type": "code",
   "execution_count": null,
   "metadata": {
    "application/vnd.databricks.v1+cell": {
     "cellMetadata": {
      "byteLimit": 2048000,
      "rowLimit": 10000
     },
     "inputWidgets": {},
     "nuid": "b3c61b41-94c4-4817-b6c3-8a247efe06f6",
     "showTitle": false,
     "title": ""
    }
   },
   "outputs": [
    {
     "name": "stdout",
     "output_type": "stream",
     "text": [
      "Out[9]: 44446"
     ]
    }
   ],
   "source": [
    "images.count()"
   ]
  },
  {
   "cell_type": "code",
   "execution_count": null,
   "metadata": {
    "application/vnd.databricks.v1+cell": {
     "cellMetadata": {
      "byteLimit": 2048000,
      "rowLimit": 10000
     },
     "inputWidgets": {},
     "nuid": "eb8a2498-00a9-4e86-befd-4eb08e44ffbe",
     "showTitle": false,
     "title": ""
    }
   },
   "outputs": [
    {
     "name": "stdout",
     "output_type": "stream",
     "text": [
      "Out[10]: 44446"
     ]
    }
   ],
   "source": [
    "atp.count()"
   ]
  },
  {
   "cell_type": "code",
   "execution_count": null,
   "metadata": {
    "application/vnd.databricks.v1+cell": {
     "cellMetadata": {
      "byteLimit": 2048000,
      "rowLimit": 10000
     },
     "inputWidgets": {},
     "nuid": "5920acda-0053-48c0-ac9e-c443a787956a",
     "showTitle": false,
     "title": ""
    }
   },
   "outputs": [
    {
     "name": "stdout",
     "output_type": "stream",
     "text": [
      "Out[11]: 44446"
     ]
    }
   ],
   "source": [
    "price.count()"
   ]
  },
  {
   "cell_type": "code",
   "execution_count": null,
   "metadata": {
    "application/vnd.databricks.v1+cell": {
     "cellMetadata": {
      "byteLimit": 2048000,
      "rowLimit": 10000
     },
     "inputWidgets": {},
     "nuid": "82d16441-911d-425f-acf2-dd7b73096403",
     "showTitle": false,
     "title": ""
    }
   },
   "outputs": [
    {
     "name": "stdout",
     "output_type": "stream",
     "text": [
      "Out[12]: 44446"
     ]
    }
   ],
   "source": [
    "prd_desc.count()\n"
   ]
  },
  {
   "cell_type": "code",
   "execution_count": null,
   "metadata": {
    "application/vnd.databricks.v1+cell": {
     "cellMetadata": {},
     "inputWidgets": {},
     "nuid": "442d58c9-7cb2-4ff2-8a40-9de217f6e9e9",
     "showTitle": false,
     "title": ""
    }
   },
   "outputs": [],
   "source": []
  }
 ],
 "metadata": {
  "application/vnd.databricks.v1+notebook": {
   "dashboards": [],
   "language": "python",
   "notebookMetadata": {
    "pythonIndentUnit": 4
   },
   "notebookName": "fullIndex",
   "widgets": {}
  },
  "language_info": {
   "name": "python"
  }
 },
 "nbformat": 4,
 "nbformat_minor": 0
}
