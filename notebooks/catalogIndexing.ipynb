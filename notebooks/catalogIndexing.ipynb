{
 "cells": [
  {
   "cell_type": "code",
   "execution_count": null,
   "metadata": {
    "application/vnd.databricks.v1+cell": {
     "cellMetadata": {},
     "inputWidgets": {},
     "nuid": "9bdc6726-bd40-48d8-a71e-bde35eec561b",
     "showTitle": false,
     "title": ""
    }
   },
   "outputs": [],
   "source": [
    "%pip install pymongo tqdm"
   ]
  },
  {
   "cell_type": "code",
   "execution_count": null,
   "metadata": {
    "application/vnd.databricks.v1+cell": {
     "cellMetadata": {},
     "inputWidgets": {},
     "nuid": "79009de2-b159-4f8e-84c3-1d3c5cb716d1",
     "showTitle": false,
     "title": ""
    }
   },
   "outputs": [],
   "source": [
    "import pandas as pd\n",
    "import json\n",
    "from collections import Counter\n",
    "from tqdm import tqdm\n",
    "from pymongo import MongoClient\n",
    "from pyspark.sql import functions as F\n",
    "from pyspark.sql import types as T\n",
    "from pyspark.sql import Window\n",
    "import pyspark\n",
    "from pyspark import SparkContext\n",
    "from pyspark.sql import SparkSession\n",
    "conf = pyspark.SparkConf()\n",
    "\n",
    "\n",
    "import copy\n",
    "import numpy as np\n",
    "\n",
    "\n",
    "tqdm.pandas()\n",
    "\n",
    "MONGO_CONN = 'mongodb+srv://<username>:<password>@retail-demo.2wqno.mongodb.net/?retryWrites=true&w=majority'"
   ]
  },
  {
   "cell_type": "code",
   "execution_count": null,
   "metadata": {
    "application/vnd.databricks.v1+cell": {
     "cellMetadata": {},
     "inputWidgets": {},
     "nuid": "a7d19b05-6b46-4614-a449-1fd105d23ef6",
     "showTitle": false,
     "title": ""
    }
   },
   "outputs": [],
   "source": [
    "# from pymongo import MongoClient\n",
    "\n",
    "# client = MongoClient(MONGO_CONN)\n",
    "# db = client[\"search\"]\n",
    "# db['catalog_n'].delete_many({})\n",
    "# pid = pd.DataFrame.from_records(db['catalog_n'].find({},{\"_id\": 0, \"product_uid\": 1}))\n",
    "# atp = pd.DataFrame.from_records(db['atp_status'].find({},{\"_id\":0}))\n",
    "# df = pid.merge(atp, on='product_uid', how=\"left\")\n",
    "# db['atp_status'].delete_many({})\n",
    "# db['atp_status'].insert_many(df.to_dict(orient='records'))"
   ]
  },
  {
   "cell_type": "code",
   "execution_count": null,
   "metadata": {
    "application/vnd.databricks.v1+cell": {
     "cellMetadata": {},
     "inputWidgets": {},
     "nuid": "08ceb9ac-8d6d-4b8d-b311-1b79eb480ed0",
     "showTitle": false,
     "title": ""
    }
   },
   "outputs": [],
   "source": [
    "atp = spark.readStream.format(\"mongodb\").\\\n",
    "            option('spark.mongodb.connection.uri', MONGO_CONN).\\\n",
    "            option('spark.mongodb.database', \"search\").\\\n",
    "            option('spark.mongodb.collection', \"atp_status\").\\\n",
    "            option('spark.mongodb.change.stream.publish.full.document.only','true').\\\n",
    "            option('spark.mongodb.aggregation.pipeline',[]).\\\n",
    "            option(\"forceDeleteTempCheckpointLocation\", \"true\").load()\n",
    "\n",
    "atp = atp.drop(\"_id\")\n",
    "atp.writeStream.format(\"mongodb\").\\\n",
    "            option('spark.mongodb.connection.uri', MONGO_CONN).\\\n",
    "            option('spark.mongodb.database', \"search\").\\\n",
    "            option('spark.mongodb.collection', \"catalog_n\").\\\n",
    "            option('spark.mongodb.operationType', \"update\").\\\n",
    "            option('spark.mongodb.upsertDocument', True).\\\n",
    "            option('spark.mongodb.idFieldList', \"product_uid\").\\\n",
    "            option(\"checkpointLocation\", \"/tmp/retail-atp-4/_checkpoint/\").\\\n",
    "            option(\"forceDeleteTempCheckpointLocation\", \"true\").\\\n",
    "            outputMode(\"append\").\\\n",
    "            start()"
   ]
  },
  {
   "cell_type": "code",
   "execution_count": null,
   "metadata": {
    "application/vnd.databricks.v1+cell": {
     "cellMetadata": {},
     "inputWidgets": {},
     "nuid": "ed01cd61-c270-4d63-a029-7b92cf359a12",
     "showTitle": false,
     "title": ""
    }
   },
   "outputs": [],
   "source": []
  },
  {
   "cell_type": "code",
   "execution_count": null,
   "metadata": {
    "application/vnd.databricks.v1+cell": {
     "cellMetadata": {},
     "inputWidgets": {},
     "nuid": "e9d5f36c-1e6d-44e7-861e-b28565ab4cea",
     "showTitle": false,
     "title": ""
    }
   },
   "outputs": [],
   "source": [
    "attrs=spark.readStream.format(\"mongodb\").\\\n",
    "            option('spark.mongodb.connection.uri', MONGO_CONN).\\\n",
    "            option('spark.mongodb.database', \"search\").\\\n",
    "            option('spark.mongodb.collection', \"attrs\").\\\n",
    "            option('spark.mongodb.change.stream.publish.full.document.only','true').\\\n",
    "            option(\"forceDeleteTempCheckpointLocation\", \"true\").\\\n",
    "            option('spark.mongodb.aggregation.pipeline',[{\"$project\":{'product_id':0}}]).\\\n",
    "            option(\"forceDeleteTempCheckpointLocation\", \"true\").load()\n",
    "\n",
    "attrs = attrs.drop(\"_id\")\n",
    "attrs.writeStream.format(\"mongodb\").\\\n",
    "            option('spark.mongodb.connection.uri', MONGO_CONN).\\\n",
    "            option('spark.mongodb.database', \"search\").\\\n",
    "            option('spark.mongodb.collection', \"catalog_n\").\\\n",
    "            option('spark.mongodb.idFieldList', 'product_uid').\\\n",
    "            option(\"checkpointLocation\", \"/tmp/retail-attrs/_checkpoint/\").\\\n",
    "            option(\"forceDeleteTempCheckpointLocation\", \"true\").\\\n",
    "            outputMode(\"append\").\\\n",
    "            start()"
   ]
  },
  {
   "cell_type": "code",
   "execution_count": null,
   "metadata": {
    "application/vnd.databricks.v1+cell": {
     "cellMetadata": {},
     "inputWidgets": {},
     "nuid": "8cfe4447-7ef2-4687-9efc-893272a9fdf8",
     "showTitle": false,
     "title": ""
    }
   },
   "outputs": [],
   "source": [
    "prd_desc=spark.readStream.format(\"mongodb\").\\\n",
    "            option('spark.mongodb.connection.uri', MONGO_CONN).\\\n",
    "            option('spark.mongodb.database', \"search\").\\\n",
    "            option('spark.mongodb.collection', \"prd_desc\").\\\n",
    "            option('spark.mongodb.change.stream.publish.full.document.only','true').\\\n",
    "            option(\"forceDeleteTempCheckpointLocation\", \"true\").\\\n",
    "            option('spark.mongodb.aggregation.pipeline',[]).\\\n",
    "            option(\"forceDeleteTempCheckpointLocation\", \"true\").load()\n",
    "\n",
    "prd_desc = prd_desc.drop(\"_id\")\n",
    "prd_desc.writeStream.format(\"mongodb\").\\\n",
    "            option('spark.mongodb.connection.uri', MONGO_CONN).\\\n",
    "            option('spark.mongodb.database', \"search\").\\\n",
    "            option('spark.mongodb.collection', \"catalog_n\").\\\n",
    "            option('spark.mongodb.idFieldList', 'product_uid').\\\n",
    "            option(\"checkpointLocation\", \"/tmp/retail-prd-desc/_checkpoint/\").\\\n",
    "            option(\"forceDeleteTempCheckpointLocation\", \"true\").\\\n",
    "            outputMode(\"append\").\\\n",
    "            start()"
   ]
  },
  {
   "cell_type": "code",
   "execution_count": null,
   "metadata": {
    "application/vnd.databricks.v1+cell": {
     "cellMetadata": {},
     "inputWidgets": {},
     "nuid": "7e4d974b-66ed-4c6f-a761-52f0f16be831",
     "showTitle": false,
     "title": ""
    }
   },
   "outputs": [],
   "source": [
    "prd_score=spark.readStream.format(\"mongodb\").\\\n",
    "            option('spark.mongodb.connection.uri', MONGO_CONN).\\\n",
    "            option('spark.mongodb.database', \"search\").\\\n",
    "            option('spark.mongodb.collection', \"prd_score\").\\\n",
    "            option('spark.mongodb.change.stream.publish.full.document.only','true').\\\n",
    "            option(\"forceDeleteTempCheckpointLocation\", \"true\").\\\n",
    "            option('spark.mongodb.aggregation.pipeline',[]).\\\n",
    "            option(\"forceDeleteTempCheckpointLocation\", \"true\").load()\n",
    "\n",
    "prd_score = prd_score.drop(\"_id\")\n",
    "prd_score.select(\"product_uid\", \"score\").writeStream.format(\"mongodb\").\\\n",
    "            option('spark.mongodb.connection.uri', MONGO_CONN).\\\n",
    "            option('spark.mongodb.database', \"search\").\\\n",
    "            option('spark.mongodb.collection', \"catalog_n\").\\\n",
    "            option('spark.mongodb.idFieldList', 'product_uid').\\\n",
    "            option(\"checkpointLocation\", \"/tmp/retail-prd-score/_checkpoint/\").\\\n",
    "            option(\"forceDeleteTempCheckpointLocation\", \"true\").\\\n",
    "            outputMode(\"append\").\\\n",
    "            start()"
   ]
  },
  {
   "cell_type": "code",
   "execution_count": null,
   "metadata": {
    "application/vnd.databricks.v1+cell": {
     "cellMetadata": {},
     "inputWidgets": {},
     "nuid": "f2939c79-6852-4584-b9ec-c575e1860418",
     "showTitle": false,
     "title": ""
    }
   },
   "outputs": [],
   "source": [
    "price = spark.readStream.format(\"mongodb\").\\\n",
    "            option('spark.mongodb.connection.uri', MONGO_CONN).\\\n",
    "            option('spark.mongodb.database', \"search\").\\\n",
    "            option('spark.mongodb.collection', \"price\").\\\n",
    "            option('spark.mongodb.change.stream.publish.full.document.only','true').\\\n",
    "            option(\"forceDeleteTempCheckpointLocation\", \"true\").\\\n",
    "            option('spark.mongodb.aggregation.pipeline',[{\"$project\":{\"_id\":0}}]).\\\n",
    "            option(\"forceDeleteTempCheckpointLocation\", \"true\").load()\n",
    "\n",
    "price = price.drop(\"_id\")\n",
    "price.writeStream.format(\"mongodb\").\\\n",
    "            option('spark.mongodb.connection.uri', MONGO_CONN).\\\n",
    "            option('spark.mongodb.database', \"search\").\\\n",
    "            option('spark.mongodb.collection', \"catalog_n\").\\\n",
    "            option('spark.mongodb.idFieldList', 'product_uid').\\\n",
    "            option(\"checkpointLocation\", \"/tmp/retail-price/_checkpoint/\").\\\n",
    "            option(\"forceDeleteTempCheckpointLocation\", \"true\").\\\n",
    "            outputMode(\"append\").\\\n",
    "            start()"
   ]
  },
  {
   "cell_type": "code",
   "execution_count": null,
   "metadata": {
    "application/vnd.databricks.v1+cell": {
     "cellMetadata": {},
     "inputWidgets": {},
     "nuid": "08bf2e94-bec0-4569-ba97-892aa4426d20",
     "showTitle": false,
     "title": ""
    }
   },
   "outputs": [],
   "source": []
  }
 ],
 "metadata": {
  "application/vnd.databricks.v1+notebook": {
   "dashboards": [],
   "language": "python",
   "notebookMetadata": {
    "pythonIndentUnit": 4
   },
   "notebookName": "catalogIndexing",
   "notebookOrigID": 4393054174989678,
   "widgets": {}
  },
  "language_info": {
   "name": "python"
  }
 },
 "nbformat": 4,
 "nbformat_minor": 0
}
