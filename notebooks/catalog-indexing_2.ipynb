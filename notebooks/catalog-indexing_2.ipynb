{
 "cells": [
  {
   "cell_type": "code",
   "execution_count": null,
   "metadata": {
    "application/vnd.databricks.v1+cell": {
     "cellMetadata": {
      "byteLimit": 2048000,
      "rowLimit": 10000
     },
     "inputWidgets": {},
     "nuid": "143e8b9e-c7a6-41d2-993e-14d005060fcd",
     "showTitle": false,
     "title": ""
    }
   },
   "outputs": [
    {
     "name": "stdout",
     "output_type": "stream",
     "text": [
      "Python interpreter will be restarted.\n",
      "Requirement already satisfied: pymongo in /local_disk0/.ephemeral_nfs/envs/pythonEnv-a9808237-17be-417e-85ba-b541df3d2963/lib/python3.9/site-packages (4.3.3)\n",
      "Requirement already satisfied: tqdm in /local_disk0/.ephemeral_nfs/envs/pythonEnv-a9808237-17be-417e-85ba-b541df3d2963/lib/python3.9/site-packages (4.65.0)\n",
      "Requirement already satisfied: dnspython<3.0.0,>=1.16.0 in /local_disk0/.ephemeral_nfs/envs/pythonEnv-a9808237-17be-417e-85ba-b541df3d2963/lib/python3.9/site-packages (from pymongo) (2.3.0)\n",
      "Python interpreter will be restarted.\n"
     ]
    }
   ],
   "source": [
    "%pip install pymongo tqdm sentence-transformers"
   ]
  },
  {
   "cell_type": "code",
   "execution_count": null,
   "metadata": {
    "application/vnd.databricks.v1+cell": {
     "cellMetadata": {
      "byteLimit": 2048000,
      "rowLimit": 10000
     },
     "inputWidgets": {},
     "nuid": "a8b242d4-1335-4ebc-81cf-3cdd4aa99195",
     "showTitle": false,
     "title": ""
    }
   },
   "outputs": [
    {
     "data": {
      "application/vnd.databricks.v1+bamboolib_hint": "{\"pd.DataFrames\": [], \"version\": \"0.0.1\"}",
      "text/plain": []
     },
     "metadata": {},
     "output_type": "display_data"
    }
   ],
   "source": [
    "import pandas as pd\n",
    "import json\n",
    "from collections import Counter\n",
    "from tqdm import tqdm\n",
    "from pymongo import MongoClient\n",
    "from pyspark.sql import functions as F\n",
    "from pyspark.sql import types as T\n",
    "from pyspark.sql import Window\n",
    "import pyspark\n",
    "from pyspark import SparkContext\n",
    "from pyspark.sql import SparkSession\n",
    "conf = pyspark.SparkConf()\n",
    "\n",
    "\n",
    "import copy\n",
    "import numpy as np\n",
    "\n",
    "from sentence_transformers import SentenceTransformer\n",
    "\n",
    "# Load the model\n",
    "model = SentenceTransformer('sentence-transformers/all-MiniLM-L6-v2')\n",
    "\n",
    "\n",
    "tqdm.pandas()\n",
    "\n",
    "MONGO_CONN = 'mongodb+srv://<username>:<password>@retail-demo.2wqno.mongodb.net/?retryWrites=true&w=majority'"
   ]
  },
  {
   "cell_type": "code",
   "execution_count": null,
   "metadata": {},
   "outputs": [],
   "source": [
    "@F.udf()\n",
    "def get_vec(text):\n",
    "    return model.encode(text)"
   ]
  },
  {
   "cell_type": "code",
   "execution_count": null,
   "metadata": {
    "application/vnd.databricks.v1+cell": {
     "cellMetadata": {
      "byteLimit": 2048000,
      "rowLimit": 10000
     },
     "inputWidgets": {},
     "nuid": "897c7fd7-73c1-4b60-b1a7-bfc9e8858bd3",
     "showTitle": false,
     "title": ""
    }
   },
   "outputs": [],
   "source": [
    "catalog_status = spark.readStream.format(\"mongodb\").\\\n",
    "            option('spark.mongodb.connection.uri', MONGO_CONN).\\\n",
    "            option('spark.mongodb.database', \"search\").\\\n",
    "            option('spark.mongodb.collection', \"catalog_myn\").\\\n",
    "            option('spark.mongodb.change.stream.publish.full.document.only','true').\\\n",
    "            option('spark.mongodb.aggregation.pipeline',[]).\\\n",
    "            option(\"forceDeleteTempCheckpointLocation\", \"true\").load()\n",
    "\n",
    "# update atp status to final collection based on other required fields\n",
    "# catalog_status = catalog_status.filter(((F.col(\"articleType\").isNotNull()) & (~F.col(\"articleType\").cast(\"String\").like(\"null\"))))\\\n",
    "#         .filter(((F.col(\"mfg_brand_name\").isNotNull()) & (~F.col(\"mfg_brand_name\").cast(\"String\").like(\"null\")))) \\\n",
    "#         .filter(((F.col(\"title\").isNotNull()) & (~F.col(\"title\").cast(\"String\").like(\"null\")))) \\\n",
    "#         .filter(((F.col(\"score\").isNotNull()) & (~F.col(\"score\").cast(\"String\").like(\"null\")))) \\\n",
    "#         .filter(((F.col(\"price\").isNotNull()) & (~F.col(\"price\").cast(\"String\").like(\"null\")))) \\\n",
    "\n",
    "catalog_status = catalog_status.withColumn(\"discountedPrice\", F.col(\"price\") * F.col(\"pred_price\"))\n",
    "\n",
    "catalog_status = catalog_status.withColumn(\"atp\", (F.col(\"atp\").cast(\"boolean\") & F.lit(1).cast(\"boolean\")).cast(\"integer\"))\n",
    "\n",
    "catalog_status.withColumn(\"vec\", get_vec(\"title\"))\n",
    "\n",
    "catalog_status = catalog_status.drop(\"_id\")\n",
    "catalog_status.writeStream.format(\"mongodb\").\\\n",
    "            option('spark.mongodb.connection.uri', MONGO_CONN).\\\n",
    "            option('spark.mongodb.database', \"search\").\\\n",
    "            option('spark.mongodb.collection', \"catalog_final_myn\").\\\n",
    "            option('spark.mongodb.operationType', \"update\").\\\n",
    "            option('spark.mongodb.idFieldList', \"id\").\\\n",
    "            option(\"forceDeleteTempCheckpointLocation\", \"true\").\\\n",
    "            option(\"checkpointLocation\", \"/tmp/retail-atp-myn5/_checkpoint/\").\\\n",
    "            outputMode(\"append\").\\\n",
    "            start()\n",
    "\n"
   ]
  },
  {
   "cell_type": "code",
   "execution_count": null,
   "metadata": {
    "application/vnd.databricks.v1+cell": {
     "cellMetadata": {},
     "inputWidgets": {},
     "nuid": "349c45dc-316a-4d96-a250-21ce3a55ac7d",
     "showTitle": false,
     "title": ""
    }
   },
   "outputs": [],
   "source": []
  }
 ],
 "metadata": {
  "application/vnd.databricks.v1+notebook": {
   "dashboards": [],
   "language": "python",
   "notebookMetadata": {
    "pythonIndentUnit": 4
   },
   "notebookName": "catalog-indexing_2",
   "notebookOrigID": 2711932303651729,
   "widgets": {}
  },
  "language_info": {
   "name": "python"
  }
 },
 "nbformat": 4,
 "nbformat_minor": 0
}
